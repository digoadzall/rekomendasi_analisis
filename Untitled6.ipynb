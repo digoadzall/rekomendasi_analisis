{
  "nbformat": 4,
  "nbformat_minor": 0,
  "metadata": {
    "colab": {
      "provenance": []
    },
    "kernelspec": {
      "name": "python3",
      "display_name": "Python 3"
    },
    "language_info": {
      "name": "python"
    }
  },
  "cells": [
    {
      "cell_type": "markdown",
      "source": [
        "# **Analisis Rekomendasi Film - Muhammad Faizal Pratama**"
      ],
      "metadata": {
        "id": "Cs_E9MZwVlFp"
      }
    },
    {
      "cell_type": "markdown",
      "source": [
        "# **Import Library**"
      ],
      "metadata": {
        "id": "DnSGlBt8VtTn"
      }
    },
    {
      "cell_type": "code",
      "source": [
        "import pandas as pd\n",
        "import numpy as np\n",
        "import zipfile\n",
        "import os\n",
        "import matplotlib.pyplot as plt\n",
        "import seaborn as sns\n",
        "from sklearn.feature_extraction.text import CountVectorizer\n",
        "from sklearn.metrics.pairwise import cosine_similarity"
      ],
      "metadata": {
        "id": "6Q2IiW4jpEcr"
      },
      "execution_count": 1,
      "outputs": []
    },
    {
      "cell_type": "markdown",
      "source": [
        "# **Load Data**"
      ],
      "metadata": {
        "id": "f2u7KHU4pLB-"
      }
    },
    {
      "cell_type": "code",
      "source": [
        "from google.colab import files\n",
        "uploaded = files.upload()"
      ],
      "metadata": {
        "colab": {
          "base_uri": "https://localhost:8080/",
          "height": 72
        },
        "id": "9SWtYMgPpOOi",
        "outputId": "f878488d-c28a-428a-8471-66f32f87949a"
      },
      "execution_count": 2,
      "outputs": [
        {
          "output_type": "display_data",
          "data": {
            "text/plain": [
              "<IPython.core.display.HTML object>"
            ],
            "text/html": [
              "\n",
              "     <input type=\"file\" id=\"files-1ca67c4a-069e-4f1f-a855-274a01acd781\" name=\"files[]\" multiple disabled\n",
              "        style=\"border:none\" />\n",
              "     <output id=\"result-1ca67c4a-069e-4f1f-a855-274a01acd781\">\n",
              "      Upload widget is only available when the cell has been executed in the\n",
              "      current browser session. Please rerun this cell to enable.\n",
              "      </output>\n",
              "      <script>// Copyright 2017 Google LLC\n",
              "//\n",
              "// Licensed under the Apache License, Version 2.0 (the \"License\");\n",
              "// you may not use this file except in compliance with the License.\n",
              "// You may obtain a copy of the License at\n",
              "//\n",
              "//      http://www.apache.org/licenses/LICENSE-2.0\n",
              "//\n",
              "// Unless required by applicable law or agreed to in writing, software\n",
              "// distributed under the License is distributed on an \"AS IS\" BASIS,\n",
              "// WITHOUT WARRANTIES OR CONDITIONS OF ANY KIND, either express or implied.\n",
              "// See the License for the specific language governing permissions and\n",
              "// limitations under the License.\n",
              "\n",
              "/**\n",
              " * @fileoverview Helpers for google.colab Python module.\n",
              " */\n",
              "(function(scope) {\n",
              "function span(text, styleAttributes = {}) {\n",
              "  const element = document.createElement('span');\n",
              "  element.textContent = text;\n",
              "  for (const key of Object.keys(styleAttributes)) {\n",
              "    element.style[key] = styleAttributes[key];\n",
              "  }\n",
              "  return element;\n",
              "}\n",
              "\n",
              "// Max number of bytes which will be uploaded at a time.\n",
              "const MAX_PAYLOAD_SIZE = 100 * 1024;\n",
              "\n",
              "function _uploadFiles(inputId, outputId) {\n",
              "  const steps = uploadFilesStep(inputId, outputId);\n",
              "  const outputElement = document.getElementById(outputId);\n",
              "  // Cache steps on the outputElement to make it available for the next call\n",
              "  // to uploadFilesContinue from Python.\n",
              "  outputElement.steps = steps;\n",
              "\n",
              "  return _uploadFilesContinue(outputId);\n",
              "}\n",
              "\n",
              "// This is roughly an async generator (not supported in the browser yet),\n",
              "// where there are multiple asynchronous steps and the Python side is going\n",
              "// to poll for completion of each step.\n",
              "// This uses a Promise to block the python side on completion of each step,\n",
              "// then passes the result of the previous step as the input to the next step.\n",
              "function _uploadFilesContinue(outputId) {\n",
              "  const outputElement = document.getElementById(outputId);\n",
              "  const steps = outputElement.steps;\n",
              "\n",
              "  const next = steps.next(outputElement.lastPromiseValue);\n",
              "  return Promise.resolve(next.value.promise).then((value) => {\n",
              "    // Cache the last promise value to make it available to the next\n",
              "    // step of the generator.\n",
              "    outputElement.lastPromiseValue = value;\n",
              "    return next.value.response;\n",
              "  });\n",
              "}\n",
              "\n",
              "/**\n",
              " * Generator function which is called between each async step of the upload\n",
              " * process.\n",
              " * @param {string} inputId Element ID of the input file picker element.\n",
              " * @param {string} outputId Element ID of the output display.\n",
              " * @return {!Iterable<!Object>} Iterable of next steps.\n",
              " */\n",
              "function* uploadFilesStep(inputId, outputId) {\n",
              "  const inputElement = document.getElementById(inputId);\n",
              "  inputElement.disabled = false;\n",
              "\n",
              "  const outputElement = document.getElementById(outputId);\n",
              "  outputElement.innerHTML = '';\n",
              "\n",
              "  const pickedPromise = new Promise((resolve) => {\n",
              "    inputElement.addEventListener('change', (e) => {\n",
              "      resolve(e.target.files);\n",
              "    });\n",
              "  });\n",
              "\n",
              "  const cancel = document.createElement('button');\n",
              "  inputElement.parentElement.appendChild(cancel);\n",
              "  cancel.textContent = 'Cancel upload';\n",
              "  const cancelPromise = new Promise((resolve) => {\n",
              "    cancel.onclick = () => {\n",
              "      resolve(null);\n",
              "    };\n",
              "  });\n",
              "\n",
              "  // Wait for the user to pick the files.\n",
              "  const files = yield {\n",
              "    promise: Promise.race([pickedPromise, cancelPromise]),\n",
              "    response: {\n",
              "      action: 'starting',\n",
              "    }\n",
              "  };\n",
              "\n",
              "  cancel.remove();\n",
              "\n",
              "  // Disable the input element since further picks are not allowed.\n",
              "  inputElement.disabled = true;\n",
              "\n",
              "  if (!files) {\n",
              "    return {\n",
              "      response: {\n",
              "        action: 'complete',\n",
              "      }\n",
              "    };\n",
              "  }\n",
              "\n",
              "  for (const file of files) {\n",
              "    const li = document.createElement('li');\n",
              "    li.append(span(file.name, {fontWeight: 'bold'}));\n",
              "    li.append(span(\n",
              "        `(${file.type || 'n/a'}) - ${file.size} bytes, ` +\n",
              "        `last modified: ${\n",
              "            file.lastModifiedDate ? file.lastModifiedDate.toLocaleDateString() :\n",
              "                                    'n/a'} - `));\n",
              "    const percent = span('0% done');\n",
              "    li.appendChild(percent);\n",
              "\n",
              "    outputElement.appendChild(li);\n",
              "\n",
              "    const fileDataPromise = new Promise((resolve) => {\n",
              "      const reader = new FileReader();\n",
              "      reader.onload = (e) => {\n",
              "        resolve(e.target.result);\n",
              "      };\n",
              "      reader.readAsArrayBuffer(file);\n",
              "    });\n",
              "    // Wait for the data to be ready.\n",
              "    let fileData = yield {\n",
              "      promise: fileDataPromise,\n",
              "      response: {\n",
              "        action: 'continue',\n",
              "      }\n",
              "    };\n",
              "\n",
              "    // Use a chunked sending to avoid message size limits. See b/62115660.\n",
              "    let position = 0;\n",
              "    do {\n",
              "      const length = Math.min(fileData.byteLength - position, MAX_PAYLOAD_SIZE);\n",
              "      const chunk = new Uint8Array(fileData, position, length);\n",
              "      position += length;\n",
              "\n",
              "      const base64 = btoa(String.fromCharCode.apply(null, chunk));\n",
              "      yield {\n",
              "        response: {\n",
              "          action: 'append',\n",
              "          file: file.name,\n",
              "          data: base64,\n",
              "        },\n",
              "      };\n",
              "\n",
              "      let percentDone = fileData.byteLength === 0 ?\n",
              "          100 :\n",
              "          Math.round((position / fileData.byteLength) * 100);\n",
              "      percent.textContent = `${percentDone}% done`;\n",
              "\n",
              "    } while (position < fileData.byteLength);\n",
              "  }\n",
              "\n",
              "  // All done.\n",
              "  yield {\n",
              "    response: {\n",
              "      action: 'complete',\n",
              "    }\n",
              "  };\n",
              "}\n",
              "\n",
              "scope.google = scope.google || {};\n",
              "scope.google.colab = scope.google.colab || {};\n",
              "scope.google.colab._files = {\n",
              "  _uploadFiles,\n",
              "  _uploadFilesContinue,\n",
              "};\n",
              "})(self);\n",
              "</script> "
            ]
          },
          "metadata": {}
        },
        {
          "output_type": "stream",
          "name": "stdout",
          "text": [
            "Saving ml-100k.zip to ml-100k.zip\n"
          ]
        }
      ]
    },
    {
      "cell_type": "code",
      "source": [
        "with zipfile.ZipFile('ml-100k.zip', 'r') as zip_ref:\n",
        "    zip_ref.extractall()"
      ],
      "metadata": {
        "id": "X5itl8jCryPO"
      },
      "execution_count": 3,
      "outputs": []
    },
    {
      "cell_type": "code",
      "source": [
        "movies = pd.read_csv('ml-100k/u.item', sep='|', encoding='latin-1', header=None, usecols=range(24))\n",
        "movies.columns = ['movie_id', 'title', 'release_date', 'video_release_date', 'IMDb_URL',\n",
        "                  'unknown', 'Action', 'Adventure', 'Animation', \"Children's\", 'Comedy',\n",
        "                  'Crime', 'Documentary', 'Drama', 'Fantasy', 'Film-Noir', 'Horror',\n",
        "                  'Musical', 'Mystery', 'Romance', 'Sci-Fi', 'Thriller', 'War', 'Western']"
      ],
      "metadata": {
        "id": "BS32VC1PrysM"
      },
      "execution_count": 4,
      "outputs": []
    },
    {
      "cell_type": "markdown",
      "source": [
        "File u.item dibaca ke dalam DataFrame movies menggunakan pandas.read_csv.\n",
        "\n",
        "File dipisahkan dengan delimiter | (pipe).\n",
        "\n",
        "usecols=range(24) digunakan untuk mengambil 24 kolom pertama dari file.\n",
        "\n",
        "movies.columns digunakan untuk memberi nama kolom sesuai dokumentasi, termasuk genre dalam format one-hot encoding (1 untuk genre yang sesuai, 0 untuk yang tidak)."
      ],
      "metadata": {
        "id": "0EnqqsmUV66s"
      }
    },
    {
      "cell_type": "markdown",
      "source": [
        "# **EDA**"
      ],
      "metadata": {
        "id": "Y9ePJ2Qa-Chq"
      }
    },
    {
      "cell_type": "code",
      "source": [
        "# Cek ukuran data\n",
        "print(\"Jumlah baris dan kolom:\", movies.shape)\n",
        "\n",
        "# Cek missing values\n",
        "print(\"\\nJumlah missing value per kolom:\")\n",
        "print(movies.isnull().sum())\n",
        "\n",
        "# Cek duplikat berdasarkan judul film\n",
        "duplicate_titles = movies.duplicated(subset='title').sum()\n",
        "print(f\"\\nJumlah duplikat pada kolom 'title': {duplicate_titles}\")"
      ],
      "metadata": {
        "colab": {
          "base_uri": "https://localhost:8080/"
        },
        "id": "JdTFzrTY-Fwg",
        "outputId": "853bc039-625e-4988-c585-ebdfdef809fc"
      },
      "execution_count": 6,
      "outputs": [
        {
          "output_type": "stream",
          "name": "stdout",
          "text": [
            "Jumlah baris dan kolom: (1682, 24)\n",
            "\n",
            "Jumlah missing value per kolom:\n",
            "movie_id                 0\n",
            "title                    0\n",
            "release_date             1\n",
            "video_release_date    1682\n",
            "IMDb_URL                 3\n",
            "unknown                  0\n",
            "Action                   0\n",
            "Adventure                0\n",
            "Animation                0\n",
            "Children's               0\n",
            "Comedy                   0\n",
            "Crime                    0\n",
            "Documentary              0\n",
            "Drama                    0\n",
            "Fantasy                  0\n",
            "Film-Noir                0\n",
            "Horror                   0\n",
            "Musical                  0\n",
            "Mystery                  0\n",
            "Romance                  0\n",
            "Sci-Fi                   0\n",
            "Thriller                 0\n",
            "War                      0\n",
            "Western                  0\n",
            "dtype: int64\n",
            "\n",
            "Jumlah duplikat pada kolom 'title': 18\n"
          ]
        }
      ]
    },
    {
      "cell_type": "markdown",
      "source": [
        "di exprolrasi ini, melihat info untuk missing values dan duplikat dari data yang digunakan"
      ],
      "metadata": {
        "id": "NpQS5QdOBEWf"
      }
    },
    {
      "cell_type": "markdown",
      "source": [
        "# **Visualisasi Genre Terbanyak**"
      ],
      "metadata": {
        "id": "Z_jTDQupWDVo"
      }
    },
    {
      "cell_type": "code",
      "source": [
        "genre_cols = movies.columns[5:]\n",
        "genre_sum = movies[genre_cols].sum().sort_values(ascending=False)\n",
        "\n",
        "plt.figure(figsize=(12,6))\n",
        "sns.barplot(x=genre_sum.index, y=genre_sum.values, palette=\"viridis\")\n",
        "plt.title('Jumlah Film per Genre')\n",
        "plt.ylabel('Jumlah Film')\n",
        "plt.xticks(rotation=45)\n",
        "plt.tight_layout()\n",
        "plt.show()"
      ],
      "metadata": {
        "colab": {
          "base_uri": "https://localhost:8080/",
          "height": 694
        },
        "id": "sT3TVNBxr5xr",
        "outputId": "6bec0447-df15-4b45-8674-39c498dc2645"
      },
      "execution_count": 7,
      "outputs": [
        {
          "output_type": "stream",
          "name": "stderr",
          "text": [
            "<ipython-input-7-ea38df248c4c>:5: FutureWarning: \n",
            "\n",
            "Passing `palette` without assigning `hue` is deprecated and will be removed in v0.14.0. Assign the `x` variable to `hue` and set `legend=False` for the same effect.\n",
            "\n",
            "  sns.barplot(x=genre_sum.index, y=genre_sum.values, palette=\"viridis\")\n"
          ]
        },
        {
          "output_type": "display_data",
          "data": {
            "text/plain": [
              "<Figure size 1200x600 with 1 Axes>"
            ],
            "image/png": "[encoded data removed]"
          },
          "metadata": {}
        }
      ]
    },
    {
      "cell_type": "markdown",
      "source": [
        "Visualisasi ini membantu memahami distribusi genre dalam dataset dan berguna untuk eksplorasi awal sebelum melakukan pemodelan."
      ],
      "metadata": {
        "id": "Arcxa8URW179"
      }
    },
    {
      "cell_type": "markdown",
      "source": [
        "# ***Data Preparation - Gabungkan genre menjadi teks***"
      ],
      "metadata": {
        "id": "Akq3D19mWKms"
      }
    },
    {
      "cell_type": "code",
      "source": [
        "movies['genre_text'] = movies[genre_cols].apply(lambda row: ' '.join(row[row == 1].index), axis=1)"
      ],
      "metadata": {
        "id": "JVjs7attr-LD"
      },
      "execution_count": 8,
      "outputs": []
    },
    {
      "cell_type": "markdown",
      "source": [
        "Sebelum melakukan perhitungan kesamaan antar film, kita ubah informasi genre dari format one-hot encoding menjadi format teks (string) yang bisa dianalisis dengan NLP.\n",
        "\n",
        "Kode ini membuat kolom baru genre_text yang berisi daftar genre setiap film dalam bentuk teks, misalnya: \"Action Adventure Sci-Fi\"."
      ],
      "metadata": {
        "id": "j3irYXJ2XBW3"
      }
    },
    {
      "cell_type": "markdown",
      "source": [
        "# **Vectorization & Similarity Calculation**"
      ],
      "metadata": {
        "id": "gvA_aFF-WVF5"
      }
    },
    {
      "cell_type": "code",
      "source": [
        "vectorizer = CountVectorizer()\n",
        "genre_matrix = vectorizer.fit_transform(movies['genre_text'])\n",
        "cosine_sim = cosine_similarity(genre_matrix, genre_matrix)"
      ],
      "metadata": {
        "id": "b2JWKXeQsJbx"
      },
      "execution_count": 9,
      "outputs": []
    },
    {
      "cell_type": "markdown",
      "source": [
        "CountVectorizer() mengubah genre dalam bentuk teks menjadi representasi angka berbasis frekuensi.\n",
        "\n",
        "cosine_similarity() digunakan untuk menghitung kesamaan antar film berdasarkan genre-nya.\n",
        "\n",
        "Hasilnya adalah matriks 2D cosine_sim yang menyimpan nilai kesamaan antar seluruh pasangan film."
      ],
      "metadata": {
        "id": "z9dhvfcTXJJ9"
      }
    },
    {
      "cell_type": "markdown",
      "source": [
        "# **Visualisasi Heatmap Cosine Similarit**"
      ],
      "metadata": {
        "id": "i2_VaHp6WctQ"
      }
    },
    {
      "cell_type": "code",
      "source": [
        "plt.figure(figsize=(10,8))\n",
        "sns.heatmap(cosine_sim[:30, :30], cmap='YlGnBu')\n",
        "plt.title('Cosine Similarity antar 30 Film Pertama')\n",
        "plt.xlabel('Film Index')\n",
        "plt.ylabel('Film Index')\n",
        "plt.show()"
      ],
      "metadata": {
        "colab": {
          "base_uri": "https://localhost:8080/",
          "height": 718
        },
        "id": "OKTLH5wdsL5a",
        "outputId": "748028f0-ac09-450b-de05-411fe6a8c132"
      },
      "execution_count": 10,
      "outputs": [
        {
          "output_type": "display_data",
          "data": {
            "text/plain": [
              "<Figure size 1000x800 with 2 Axes>"
            ],
            "image/png": "[encoded data removed]"
          },
          "metadata": {}
        }
      ]
    },
    {
      "cell_type": "markdown",
      "source": [
        "Menampilkan heatmap dari 30 film pertama (film indeks 30-59) agar grafik tetap terbaca.\n",
        "\n",
        "Nilai similarity divisualisasikan dengan warna biru-kuning (semakin gelap = semakin mirip).\n",
        "\n",
        "Heatmap ini berguna untuk melihat kelompok film yang memiliki genre serupa secara visual.\n",
        "\n"
      ],
      "metadata": {
        "id": "cIc53MlHXNCM"
      }
    },
    {
      "cell_type": "markdown",
      "source": [
        "# **Fungsi Rekomendasi**"
      ],
      "metadata": {
        "id": "qddB2Uy6Wgpm"
      }
    },
    {
      "cell_type": "code",
      "source": [
        "def recommend(title, cosine_sim=cosine_sim, df=movies):\n",
        "    indices = pd.Series(df.index, index=df['title'].str.lower())\n",
        "    title = title.lower()\n",
        "    if title not in indices:\n",
        "        return \"Film tidak ditemukan di dataset.\"\n",
        "\n",
        "    idx = indices[title]\n",
        "    sim_scores = list(enumerate(cosine_sim[idx]))\n",
        "    sim_scores = sorted(sim_scores, key=lambda x: x[1], reverse=True)\n",
        "    sim_scores = sim_scores[1:6]  # ambil 5 film teratas (selain dirinya sendiri)\n",
        "    movie_indices = [i[0] for i in sim_scores]\n",
        "    return df['title'].iloc[movie_indices]"
      ],
      "metadata": {
        "id": "K1FIlanssPCy"
      },
      "execution_count": 11,
      "outputs": []
    },
    {
      "cell_type": "markdown",
      "source": [
        "Fungsi ini menerima input title (judul film) dan mengembalikan 5 film yang paling mirip berdasarkan genre-nya."
      ],
      "metadata": {
        "id": "LviRynn4XWdA"
      }
    },
    {
      "cell_type": "markdown",
      "source": [
        "# **Contoh Penggunaan**"
      ],
      "metadata": {
        "id": "vQCYs3FuWlGP"
      }
    },
    {
      "cell_type": "code",
      "source": [
        "print(\"Rekomendasi untuk 'Toy Story (1995)':\")\n",
        "print(recommend('Toy Story (1995)'))"
      ],
      "metadata": {
        "colab": {
          "base_uri": "https://localhost:8080/"
        },
        "id": "35v5uAPmsSlR",
        "outputId": "c80d9f4e-054c-42ed-908d-d4dfae0cd0ec"
      },
      "execution_count": 12,
      "outputs": [
        {
          "output_type": "stream",
          "name": "stdout",
          "text": [
            "Rekomendasi untuk 'Toy Story (1995)':\n",
            "421     Aladdin and the King of Thieves (1996)\n",
            "94                              Aladdin (1992)\n",
            "1218                     Goofy Movie, A (1995)\n",
            "62                    Santa Clause, The (1994)\n",
            "93                           Home Alone (1990)\n",
            "Name: title, dtype: object\n"
          ]
        }
      ]
    },
    {
      "cell_type": "markdown",
      "source": [
        "# **Evaluasi Manual**"
      ],
      "metadata": {
        "id": "wcTqgEKhWqb-"
      }
    },
    {
      "cell_type": "code",
      "source": [
        "input_film = 'Toy Story (1995)'\n",
        "input_idx = movies[movies['title'] == input_film].index[0]\n",
        "print(\"\\nGenre Film Input:\", movies.loc[input_idx, 'genre_text'])\n",
        "\n",
        "rekomendasi = recommend(input_film)\n",
        "print(\"\\nGenre Film Rekomendasi:\")\n",
        "for film in rekomendasi:\n",
        "    genre = movies[movies['title'] == film]['genre_text'].values[0]\n",
        "    print(f\"{film} --> {genre}\")\n",
        "\n",
        "# Hitung precision manual\n",
        "relevant = 0\n",
        "input_genres = movies.loc[input_idx, 'genre_text'].split()\n",
        "\n",
        "for film in rekomendasi:\n",
        "    genre = movies.loc[movies['title'] == film, 'genre_text'].values[0].split()\n",
        "    if any(g in input_genres for g in genre):\n",
        "        relevant += 1\n",
        "\n",
        "precision = relevant / len(rekomendasi)\n",
        "print(f\"\\nPrecision: {precision:.2f}\")"
      ],
      "metadata": {
        "colab": {
          "base_uri": "https://localhost:8080/"
        },
        "id": "xzvl7PUCsVHx",
        "outputId": "fa721dd0-c0e0-4d71-da48-535cff02e8f2"
      },
      "execution_count": 14,
      "outputs": [
        {
          "output_type": "stream",
          "name": "stdout",
          "text": [
            "\n",
            "Genre Film Input: Animation Children's Comedy\n",
            "\n",
            "Genre Film Rekomendasi:\n",
            "Aladdin and the King of Thieves (1996) --> Animation Children's Comedy\n",
            "Aladdin (1992) --> Animation Children's Comedy Musical\n",
            "Goofy Movie, A (1995) --> Animation Children's Comedy Romance\n",
            "Santa Clause, The (1994) --> Children's Comedy\n",
            "Home Alone (1990) --> Children's Comedy\n",
            "\n",
            "Precision: 1.00\n"
          ]
        }
      ]
    },
    {
      "cell_type": "code",
      "source": [],
      "metadata": {
        "id": "LOlSKK3xApyk"
      },
      "execution_count": null,
      "outputs": []
    }
  ]
}